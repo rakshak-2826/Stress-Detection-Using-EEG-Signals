{
 "cells": [
  {
   "cell_type": "code",
   "execution_count": 1,
   "metadata": {},
   "outputs": [
    {
     "ename": "IndentationError",
     "evalue": "expected an indented block after function definition on line 5 (1647552069.py, line 7)",
     "output_type": "error",
     "traceback": [
      "\u001b[1;36m  Cell \u001b[1;32mIn[1], line 7\u001b[1;36m\u001b[0m\n\u001b[1;33m    FINAL_MATRIX = None\u001b[0m\n\u001b[1;37m    ^\u001b[0m\n\u001b[1;31mIndentationError\u001b[0m\u001b[1;31m:\u001b[0m expected an indented block after function definition on line 5\n"
     ]
    }
   ],
   "source": [
    "import os, sys\n",
    "import numpy as np\n",
    "from EEG_feature_extraction import generate_feature_vectors_from_samples\n",
    "\n",
    "def gen_training_matrix(directory_path, output_file, cols_to_ignore):\n",
    "# Initialise return matrix\n",
    "FINAL_MATRIX = None\n",
    "\n",
    "for x in os.listdir(directory_path):\n",
    "\n",
    "# Ignore non-CSV files\n",
    "if not x.lower().endswith('.csv'):\n",
    "continue\n",
    "\n",
    "# For safety we'll ignore files containing the substring \"test\". \n",
    "# [Test files should not be in the dataset directory in the first place]\n",
    "if 'test' in x.lower():\n",
    "continue\n",
    "try:\n",
    "name, state, _ = x[:-4].split('-')\n",
    "except:\n",
    "print ('Wrong file name', x)\n",
    "sys.exit(-1)\n",
    "if state.lower() == 'negative':\n",
    "state = 2.\n",
    "elif state.lower() == 'neutral':\n",
    "state = 1.\n",
    "elif state.lower() == 'positive':\n",
    "state = 0.\n",
    "else:\n",
    "print ('Wrong file name', x)\n",
    "sys.exit(-1)\n",
    "\n",
    "print ('Using file', x)\n",
    "full_file_path = directory_path  +   '/'   + x\n",
    "vectors, header = generate_feature_vectors_from_samples(file_path = full_file_path, \n",
    "        nsamples = 150, \n",
    "period = 1.,\n",
    "state = state,\n",
    "        remove_redundant = True,\n",
    "cols_to_ignore = cols_to_ignore)\n",
    "\n",
    "print ('resulting vector shape for the file', vectors.shape)\n",
    "\n",
    "\n",
    "if FINAL_MATRIX is None:\n",
    "FINAL_MATRIX = vectors\n",
    "else:\n",
    "FINAL_MATRIX = np.vstack( [ FINAL_MATRIX, vectors ] )\n",
    "\n",
    "print ('FINAL_MATRIX', FINAL_MATRIX.shape)\n",
    "\n",
    "# Shuffle rows\n",
    "np.random.shuffle(FINAL_MATRIX)\n",
    "\n",
    "# Save to file\n",
    "np.savetxt(output_file, FINAL_MATRIX, delimiter = ',',\n",
    "header = ','.join(header), \n",
    "comments = '')\n",
    "\n",
    "return None\n",
    "\n",
    "\n",
    "if __name__ == '__main__':\n",
    "if len(sys.argv) < 3:\n",
    "print ('arg1: input dir\\Existing: output file')\n",
    "sys.exit(-1)\n",
    "directory_path = sys.argv[1]\n",
    "output_file = sys.argv[2]\n",
    "gen_training_matrix(directory_path, output_file, cols_to_ignore = -1)\n"
   ]
  }
 ],
 "metadata": {
  "kernelspec": {
   "display_name": "Python 3 (ipykernel)",
   "language": "python",
   "name": "python3"
  },
  "language_info": {
   "codemirror_mode": {
    "name": "ipython",
    "version": 3
   },
   "file_extension": ".py",
   "mimetype": "text/x-python",
   "name": "python",
   "nbconvert_exporter": "python",
   "pygments_lexer": "ipython3",
   "version": "3.12.0"
  }
 },
 "nbformat": 4,
 "nbformat_minor": 4
}
